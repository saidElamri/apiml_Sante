{
 "cells": [
  {
   "cell_type": "code",
   "execution_count": 3,
   "id": "895af4ae",
   "metadata": {},
   "outputs": [
    {
     "name": "stdout",
     "output_type": "stream",
     "text": [
      "<class 'pandas.core.frame.DataFrame'>\n",
      "RangeIndex: 1319 entries, 0 to 1318\n",
      "Data columns (total 9 columns):\n",
      " #   Column         Non-Null Count  Dtype  \n",
      "---  ------         --------------  -----  \n",
      " 0   age            1319 non-null   int64  \n",
      " 1   gender         1319 non-null   int64  \n",
      " 2   status         1319 non-null   object \n",
      " 3   pressurehight  1319 non-null   int64  \n",
      " 4   pressurelow    1319 non-null   int64  \n",
      " 5   glucose        1319 non-null   float64\n",
      " 6   kcm            1319 non-null   float64\n",
      " 7   troponin       1319 non-null   float64\n",
      " 8   impluse        1319 non-null   int64  \n",
      "dtypes: float64(3), int64(5), object(1)\n",
      "memory usage: 92.9+ KB\n"
     ]
    }
   ],
   "source": [
    "# Loaded variable 'df' from URI: c:\\Users\\hp\\IA\\data2.csv\n",
    "import pandas as pd\n",
    "df = pd.read_csv(r'c:\\Users\\hp\\IA\\data2.csv')\n",
    "df.info()"
   ]
  },
  {
   "cell_type": "code",
   "execution_count": 4,
   "id": "6ec99725",
   "metadata": {},
   "outputs": [
    {
     "data": {
      "application/vnd.microsoft.datawrangler.viewer.v0+json": {
       "columns": [
        {
         "name": "index",
         "rawType": "object",
         "type": "string"
        },
        {
         "name": "age",
         "rawType": "float64",
         "type": "float"
        },
        {
         "name": "gender",
         "rawType": "float64",
         "type": "float"
        },
        {
         "name": "pressurehight",
         "rawType": "float64",
         "type": "float"
        },
        {
         "name": "pressurelow",
         "rawType": "float64",
         "type": "float"
        },
        {
         "name": "glucose",
         "rawType": "float64",
         "type": "float"
        },
        {
         "name": "kcm",
         "rawType": "float64",
         "type": "float"
        },
        {
         "name": "troponin",
         "rawType": "float64",
         "type": "float"
        },
        {
         "name": "impluse",
         "rawType": "float64",
         "type": "float"
        }
       ],
       "ref": "efb50e8a-e325-4fd9-863a-67c327f8793e",
       "rows": [
        [
         "count",
         "1319.0",
         "1319.0",
         "1319.0",
         "1319.0",
         "1319.0",
         "1319.0",
         "1319.0",
         "1319.0"
        ],
        [
         "mean",
         "56.191811978771796",
         "0.6595905989385898",
         "127.17058377558757",
         "72.26914329037149",
         "146.63434420015165",
         "15.27430553449583",
         "0.3609423805913571",
         "78.3366186504928"
        ],
        [
         "std",
         "13.647315476078791",
         "0.4740265793910887",
         "26.12272045584133",
         "14.033924163048692",
         "74.92304465780165",
         "46.32708334398736",
         "1.1545676649221812",
         "51.630270006756184"
        ],
        [
         "min",
         "14.0",
         "0.0",
         "42.0",
         "38.0",
         "35.0",
         "0.321",
         "0.001",
         "20.0"
        ],
        [
         "25%",
         "47.0",
         "0.0",
         "110.0",
         "62.0",
         "98.0",
         "1.6549999999999998",
         "0.006",
         "64.0"
        ],
        [
         "50%",
         "58.0",
         "1.0",
         "124.0",
         "72.0",
         "116.0",
         "2.85",
         "0.014",
         "74.0"
        ],
        [
         "75%",
         "65.0",
         "1.0",
         "143.0",
         "81.0",
         "169.5",
         "5.805",
         "0.08549999999999999",
         "85.0"
        ],
        [
         "max",
         "103.0",
         "1.0",
         "223.0",
         "154.0",
         "541.0",
         "300.0",
         "10.3",
         "1111.0"
        ]
       ],
       "shape": {
        "columns": 8,
        "rows": 8
       }
      },
      "text/html": [
       "<div>\n",
       "<style scoped>\n",
       "    .dataframe tbody tr th:only-of-type {\n",
       "        vertical-align: middle;\n",
       "    }\n",
       "\n",
       "    .dataframe tbody tr th {\n",
       "        vertical-align: top;\n",
       "    }\n",
       "\n",
       "    .dataframe thead th {\n",
       "        text-align: right;\n",
       "    }\n",
       "</style>\n",
       "<table border=\"1\" class=\"dataframe\">\n",
       "  <thead>\n",
       "    <tr style=\"text-align: right;\">\n",
       "      <th></th>\n",
       "      <th>age</th>\n",
       "      <th>gender</th>\n",
       "      <th>pressurehight</th>\n",
       "      <th>pressurelow</th>\n",
       "      <th>glucose</th>\n",
       "      <th>kcm</th>\n",
       "      <th>troponin</th>\n",
       "      <th>impluse</th>\n",
       "    </tr>\n",
       "  </thead>\n",
       "  <tbody>\n",
       "    <tr>\n",
       "      <th>count</th>\n",
       "      <td>1319.000000</td>\n",
       "      <td>1319.000000</td>\n",
       "      <td>1319.000000</td>\n",
       "      <td>1319.000000</td>\n",
       "      <td>1319.000000</td>\n",
       "      <td>1319.000000</td>\n",
       "      <td>1319.000000</td>\n",
       "      <td>1319.000000</td>\n",
       "    </tr>\n",
       "    <tr>\n",
       "      <th>mean</th>\n",
       "      <td>56.191812</td>\n",
       "      <td>0.659591</td>\n",
       "      <td>127.170584</td>\n",
       "      <td>72.269143</td>\n",
       "      <td>146.634344</td>\n",
       "      <td>15.274306</td>\n",
       "      <td>0.360942</td>\n",
       "      <td>78.336619</td>\n",
       "    </tr>\n",
       "    <tr>\n",
       "      <th>std</th>\n",
       "      <td>13.647315</td>\n",
       "      <td>0.474027</td>\n",
       "      <td>26.122720</td>\n",
       "      <td>14.033924</td>\n",
       "      <td>74.923045</td>\n",
       "      <td>46.327083</td>\n",
       "      <td>1.154568</td>\n",
       "      <td>51.630270</td>\n",
       "    </tr>\n",
       "    <tr>\n",
       "      <th>min</th>\n",
       "      <td>14.000000</td>\n",
       "      <td>0.000000</td>\n",
       "      <td>42.000000</td>\n",
       "      <td>38.000000</td>\n",
       "      <td>35.000000</td>\n",
       "      <td>0.321000</td>\n",
       "      <td>0.001000</td>\n",
       "      <td>20.000000</td>\n",
       "    </tr>\n",
       "    <tr>\n",
       "      <th>25%</th>\n",
       "      <td>47.000000</td>\n",
       "      <td>0.000000</td>\n",
       "      <td>110.000000</td>\n",
       "      <td>62.000000</td>\n",
       "      <td>98.000000</td>\n",
       "      <td>1.655000</td>\n",
       "      <td>0.006000</td>\n",
       "      <td>64.000000</td>\n",
       "    </tr>\n",
       "    <tr>\n",
       "      <th>50%</th>\n",
       "      <td>58.000000</td>\n",
       "      <td>1.000000</td>\n",
       "      <td>124.000000</td>\n",
       "      <td>72.000000</td>\n",
       "      <td>116.000000</td>\n",
       "      <td>2.850000</td>\n",
       "      <td>0.014000</td>\n",
       "      <td>74.000000</td>\n",
       "    </tr>\n",
       "    <tr>\n",
       "      <th>75%</th>\n",
       "      <td>65.000000</td>\n",
       "      <td>1.000000</td>\n",
       "      <td>143.000000</td>\n",
       "      <td>81.000000</td>\n",
       "      <td>169.500000</td>\n",
       "      <td>5.805000</td>\n",
       "      <td>0.085500</td>\n",
       "      <td>85.000000</td>\n",
       "    </tr>\n",
       "    <tr>\n",
       "      <th>max</th>\n",
       "      <td>103.000000</td>\n",
       "      <td>1.000000</td>\n",
       "      <td>223.000000</td>\n",
       "      <td>154.000000</td>\n",
       "      <td>541.000000</td>\n",
       "      <td>300.000000</td>\n",
       "      <td>10.300000</td>\n",
       "      <td>1111.000000</td>\n",
       "    </tr>\n",
       "  </tbody>\n",
       "</table>\n",
       "</div>"
      ],
      "text/plain": [
       "               age       gender  pressurehight  pressurelow      glucose  \\\n",
       "count  1319.000000  1319.000000    1319.000000  1319.000000  1319.000000   \n",
       "mean     56.191812     0.659591     127.170584    72.269143   146.634344   \n",
       "std      13.647315     0.474027      26.122720    14.033924    74.923045   \n",
       "min      14.000000     0.000000      42.000000    38.000000    35.000000   \n",
       "25%      47.000000     0.000000     110.000000    62.000000    98.000000   \n",
       "50%      58.000000     1.000000     124.000000    72.000000   116.000000   \n",
       "75%      65.000000     1.000000     143.000000    81.000000   169.500000   \n",
       "max     103.000000     1.000000     223.000000   154.000000   541.000000   \n",
       "\n",
       "               kcm     troponin      impluse  \n",
       "count  1319.000000  1319.000000  1319.000000  \n",
       "mean     15.274306     0.360942    78.336619  \n",
       "std      46.327083     1.154568    51.630270  \n",
       "min       0.321000     0.001000    20.000000  \n",
       "25%       1.655000     0.006000    64.000000  \n",
       "50%       2.850000     0.014000    74.000000  \n",
       "75%       5.805000     0.085500    85.000000  \n",
       "max     300.000000    10.300000  1111.000000  "
      ]
     },
     "execution_count": 4,
     "metadata": {},
     "output_type": "execute_result"
    }
   ],
   "source": [
    "df.describe()\n"
   ]
  },
  {
   "cell_type": "code",
   "execution_count": 5,
   "id": "a1e74dec",
   "metadata": {},
   "outputs": [
    {
     "data": {
      "application/vnd.microsoft.datawrangler.viewer.v0+json": {
       "columns": [
        {
         "name": "index",
         "rawType": "object",
         "type": "string"
        },
        {
         "name": "0",
         "rawType": "int64",
         "type": "integer"
        }
       ],
       "ref": "e7924edb-507b-4661-a2ba-dc56a57dac0b",
       "rows": [
        [
         "age",
         "0"
        ],
        [
         "gender",
         "0"
        ],
        [
         "status",
         "0"
        ],
        [
         "pressurehight",
         "0"
        ],
        [
         "pressurelow",
         "0"
        ],
        [
         "glucose",
         "0"
        ],
        [
         "kcm",
         "0"
        ],
        [
         "troponin",
         "0"
        ],
        [
         "impluse",
         "0"
        ]
       ],
       "shape": {
        "columns": 1,
        "rows": 9
       }
      },
      "text/plain": [
       "age              0\n",
       "gender           0\n",
       "status           0\n",
       "pressurehight    0\n",
       "pressurelow      0\n",
       "glucose          0\n",
       "kcm              0\n",
       "troponin         0\n",
       "impluse          0\n",
       "dtype: int64"
      ]
     },
     "execution_count": 5,
     "metadata": {},
     "output_type": "execute_result"
    }
   ],
   "source": [
    "df.isnull().sum()"
   ]
  },
  {
   "cell_type": "code",
   "execution_count": 6,
   "id": "51c0c58e",
   "metadata": {},
   "outputs": [],
   "source": [
    "def clean_data(df):\n",
    "    # Drop duplicate rows across all columns\n",
    "    df = df.drop_duplicates()\n",
    "    # Drop duplicate rows across all columns\n",
    "    df = df.drop_duplicates()\n",
    "    # Drop rows with missing data in column: 'age'\n",
    "    df = df.dropna(subset=['age'])\n",
    "    return df\n"
   ]
  },
  {
   "cell_type": "code",
   "execution_count": 7,
   "id": "bc5510d6",
   "metadata": {},
   "outputs": [
    {
     "name": "stdout",
     "output_type": "stream",
     "text": [
      "False\n"
     ]
    }
   ],
   "source": [
    "#check for duplicates \n",
    "print(df.duplicated().any())"
   ]
  },
  {
   "cell_type": "code",
   "execution_count": 13,
   "id": "ad168d41",
   "metadata": {},
   "outputs": [],
   "source": [
    "# data preparation \n",
    "X=df.drop(columns=['status'])\n",
    "y=df['status']"
   ]
  },
  {
   "cell_type": "code",
   "execution_count": 15,
   "id": "73b036a4",
   "metadata": {},
   "outputs": [],
   "source": [
    "from sklearn.model_selection import train_test_split\n",
    "#Split Data\n",
    "X_train, X_test, y_train, y_test = train_test_split(X, y, test_size=0.2, random_state=42)"
   ]
  },
  {
   "cell_type": "code",
   "execution_count": 18,
   "id": "b908746d",
   "metadata": {},
   "outputs": [
    {
     "name": "stdout",
     "output_type": "stream",
     "text": [
      "Index(['age', 'gender', 'pressurehight', 'pressurelow', 'glucose', 'kcm',\n",
      "       'troponin', 'impluse'],\n",
      "      dtype='object')\n"
     ]
    }
   ],
   "source": [
    "num_cols = df.select_dtypes(include='number').columns\n",
    "print(num_cols)"
   ]
  },
  {
   "cell_type": "code",
   "execution_count": 19,
   "id": "ca082cdb",
   "metadata": {},
   "outputs": [
    {
     "name": "stdout",
     "output_type": "stream",
     "text": [
      "           age  gender  pressurehight  pressurelow   glucose       kcm  \\\n",
      "598  -1.034860       1       1.012203     1.322291 -0.651508 -0.213444   \n",
      "1213  1.462646       1      -0.617725    -0.234964 -0.730903 -0.277728   \n",
      "209   0.287349       1      -3.295463    -0.588885 -0.545649 -0.308747   \n",
      "538  -0.300299       0       0.119624     0.543664  0.446783 -0.286466   \n",
      "140  -0.814492       0      -1.549112    -1.792218 -0.863227 -0.277520   \n",
      "...        ...     ...            ...          ...       ...       ...   \n",
      "1095 -0.447212       0      -0.307262     0.260526 -0.228071  0.007911   \n",
      "1130  0.066981       1      -1.005803    -1.296728 -0.426557 -0.309850   \n",
      "1294 -0.447212       0      -1.355073    -1.225944  3.543170  0.025595   \n",
      "860  -0.153387       1       1.051011     0.826801 -0.267768 -0.265246   \n",
      "1126  3.445959       0       1.710744    -1.155159  0.036578  0.753944   \n",
      "\n",
      "      troponin   impluse  \n",
      "598  -0.310036  0.101709  \n",
      "1213 -0.284726  1.175163  \n",
      "209   0.072336 -0.214012  \n",
      "538  -0.294669  0.227998  \n",
      "140  -0.310036  0.017517  \n",
      "...        ...       ...  \n",
      "1095 -0.304613  0.143806  \n",
      "1130 -0.300093 -0.003531  \n",
      "1294 -0.308229  0.017517  \n",
      "860  -0.306421 -0.129820  \n",
      "1126 -0.272974 -0.466590  \n",
      "\n",
      "[1055 rows x 8 columns]\n"
     ]
    }
   ],
   "source": [
    "# normalisation\n",
    "from sklearn.preprocessing import StandardScaler\n",
    "num_cols=['age','pressurehight','pressurelow','glucose','kcm','troponin', 'impluse']\n",
    "scale=StandardScaler()\n",
    "X_train[num_cols]=scale.fit_transform(X_train[num_cols])\n",
    "X_test[num_cols]=scale.transform(X_test[num_cols])\n",
    "data_scaled=X_train[num_cols].copy()\n",
    "print(X_train)"
   ]
  },
  {
   "cell_type": "code",
   "execution_count": null,
   "id": "0ecb3828",
   "metadata": {},
   "outputs": [],
   "source": [
    "import pandas as pd\n",
    "\n",
    "def clean_data(df):\n",
    "    # Drop duplicate rows across all columns\n",
    "    df = df.drop_duplicates()\n",
    "    # Drop duplicate rows across all columns\n",
    "    df = df.drop_duplicates()\n",
    "    # Drop rows with missing data in column: 'age'\n",
    "    df = df.dropna(subset=['age'])\n",
    "    # Drop rows with missing data across all columns\n",
    "    df = df.dropna()\n",
    "    # Replace missing values with 0 in columns: 'age', 'gender' and 3 other columns\n",
    "    df = df.fillna({'age': 0, 'gender': 0, 'pressurehight': 0, 'pressurelow': 0, 'impluse': 0})\n",
    "    # Multi-label encode column 'status' using delimiter 'status'\n",
    "    loc_0 = df.columns.get_loc('status')\n",
    "    df_encoded = df['status'].str.get_dummies(sep='status').add_prefix('status_')\n",
    "    df = pd.concat([df.iloc[:,:loc_0], df_encoded, df.iloc[:,loc_0+1:]], axis=1)\n",
    "    return df\n",
    "\n",
    "# Loaded variable 'df' from URI: c:\\Users\\hp\\IA\\data2.csv\n",
    "df = pd.read_csv(r'c:\\Users\\hp\\IA\\data2.csv')\n",
    "\n",
    "df_clean = clean_data(df.copy())\n",
    "df_clean.head()"
   ]
  },
  {
   "cell_type": "code",
   "execution_count": 26,
   "id": "167c2e7a",
   "metadata": {},
   "outputs": [
    {
     "name": "stdout",
     "output_type": "stream",
     "text": [
      "Best Parameters: {'model__max_depth': None, 'model__min_samples_leaf': 1, 'model__n_estimators': 200}\n",
      "Best Cross-Validated MAE: 0.01743127962085308\n",
      "Test MAE: 0.03376893939393939\n",
      "Test R2: 0.8976308449249834\n"
     ]
    }
   ],
   "source": [
    "from sklearn.compose import ColumnTransformer\n",
    "from sklearn.preprocessing import StandardScaler\n",
    "from sklearn.ensemble import RandomForestRegressor\n",
    "from sklearn.metrics import mean_absolute_error, r2_score\n",
    "from sklearn.model_selection import GridSearchCV, train_test_split\n",
    "from sklearn.pipeline import Pipeline\n",
    "\n",
    "# Features et target\n",
    "X = df[num_cols]  # tes colonnes numériques\n",
    "y = df['status']  # remplace par ta colonne à prédire\n",
    "\n",
    "# Split\n",
    "X_train, X_test, y_train, y_test = train_test_split(X, y, test_size=0.2, random_state=42)\n",
    "# Encoder la cible\n",
    "y_train = y_train.map({'negative': 0, 'positive': 1})\n",
    "y_test = y_test.map({'negative': 0, 'positive': 1})\n",
    "# Préprocesseur\n",
    "preprocessor = ColumnTransformer([\n",
    "    ('num', StandardScaler(), num_cols)\n",
    "])\n",
    "\n",
    "# Pipeline\n",
    "pipeline = Pipeline([\n",
    "    ('preprocessor', preprocessor),\n",
    "    ('model', RandomForestRegressor(random_state=42))\n",
    "])\n",
    "\n",
    "# GridSearch\n",
    "param_grid = {\n",
    "    'model__n_estimators': [100, 200],\n",
    "    'model__max_depth': [None, 10, 20],\n",
    "    'model__min_samples_leaf': [1, 2, 4]\n",
    "}\n",
    "\n",
    "grid_search = GridSearchCV(\n",
    "    estimator=pipeline,\n",
    "    param_grid=param_grid,\n",
    "    cv=5,\n",
    "    scoring='neg_mean_absolute_error',\n",
    "    n_jobs=-1\n",
    ")\n",
    "\n",
    "# Train\n",
    "grid_search.fit(X_train, y_train)\n",
    "\n",
    "# Résultats\n",
    "print(\"Best Parameters:\", grid_search.best_params_)\n",
    "print(\"Best Cross-Validated MAE:\", -grid_search.best_score_)\n",
    "\n",
    "# Évaluation sur test set\n",
    "y_pred = grid_search.best_estimator_.predict(X_test)\n",
    "print(\"Test MAE:\", mean_absolute_error(y_test, y_pred))\n",
    "print(\"Test R2:\", r2_score(y_test, y_pred))\n"
   ]
  }
 ],
 "metadata": {
  "kernelspec": {
   "display_name": "dataEnv",
   "language": "python",
   "name": "python3"
  },
  "language_info": {
   "codemirror_mode": {
    "name": "ipython",
    "version": 3
   },
   "file_extension": ".py",
   "mimetype": "text/x-python",
   "name": "python",
   "nbconvert_exporter": "python",
   "pygments_lexer": "ipython3",
   "version": "3.13.7"
  }
 },
 "nbformat": 4,
 "nbformat_minor": 5
}
